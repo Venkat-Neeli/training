{
 "cells": [
  {
   "cell_type": "code",
   "execution_count": 1,
   "id": "8627b469-e0cb-4c33-899b-824969ba7b9d",
   "metadata": {},
   "outputs": [
    {
     "name": "stdout",
     "output_type": "stream",
     "text": [
      "Collecting google-cloud-storageNote: you may need to restart the kernel to use updated packages.\n",
      "\n",
      "  Using cached google_cloud_storage-2.18.2-py2.py3-none-any.whl.metadata (9.1 kB)\n",
      "Collecting google-auth<3.0dev,>=2.26.1 (from google-cloud-storage)\n",
      "  Using cached google_auth-2.34.0-py2.py3-none-any.whl.metadata (4.7 kB)\n",
      "Collecting google-api-core<3.0.0dev,>=2.15.0 (from google-cloud-storage)\n",
      "  Using cached google_api_core-2.19.2-py3-none-any.whl.metadata (2.7 kB)\n",
      "Collecting google-cloud-core<3.0dev,>=2.3.0 (from google-cloud-storage)\n",
      "  Using cached google_cloud_core-2.4.1-py2.py3-none-any.whl.metadata (2.7 kB)\n",
      "Collecting google-resumable-media>=2.7.2 (from google-cloud-storage)\n",
      "  Using cached google_resumable_media-2.7.2-py2.py3-none-any.whl.metadata (2.2 kB)\n",
      "Requirement already satisfied: requests<3.0.0dev,>=2.18.0 in c:\\users\\neeli.venkatesh\\appdata\\local\\anaconda3\\lib\\site-packages (from google-cloud-storage) (2.31.0)\n",
      "Collecting google-crc32c<2.0dev,>=1.0 (from google-cloud-storage)\n",
      "  Downloading google_crc32c-1.6.0-cp311-cp311-win_amd64.whl.metadata (2.4 kB)\n",
      "Collecting googleapis-common-protos<2.0.dev0,>=1.56.2 (from google-api-core<3.0.0dev,>=2.15.0->google-cloud-storage)\n",
      "  Using cached googleapis_common_protos-1.65.0-py2.py3-none-any.whl.metadata (1.5 kB)\n",
      "Requirement already satisfied: protobuf!=3.20.0,!=3.20.1,!=4.21.0,!=4.21.1,!=4.21.2,!=4.21.3,!=4.21.4,!=4.21.5,<6.0.0.dev0,>=3.19.5 in c:\\users\\neeli.venkatesh\\appdata\\local\\anaconda3\\lib\\site-packages (from google-api-core<3.0.0dev,>=2.15.0->google-cloud-storage) (3.20.3)\n",
      "Collecting proto-plus<2.0.0dev,>=1.22.3 (from google-api-core<3.0.0dev,>=2.15.0->google-cloud-storage)\n",
      "  Using cached proto_plus-1.24.0-py3-none-any.whl.metadata (2.2 kB)\n",
      "Requirement already satisfied: cachetools<6.0,>=2.0.0 in c:\\users\\neeli.venkatesh\\appdata\\local\\anaconda3\\lib\\site-packages (from google-auth<3.0dev,>=2.26.1->google-cloud-storage) (4.2.2)\n",
      "Requirement already satisfied: pyasn1-modules>=0.2.1 in c:\\users\\neeli.venkatesh\\appdata\\local\\anaconda3\\lib\\site-packages (from google-auth<3.0dev,>=2.26.1->google-cloud-storage) (0.2.8)\n",
      "Collecting rsa<5,>=3.1.4 (from google-auth<3.0dev,>=2.26.1->google-cloud-storage)\n",
      "  Using cached rsa-4.9-py3-none-any.whl.metadata (4.2 kB)\n",
      "Requirement already satisfied: charset-normalizer<4,>=2 in c:\\users\\neeli.venkatesh\\appdata\\local\\anaconda3\\lib\\site-packages (from requests<3.0.0dev,>=2.18.0->google-cloud-storage) (2.0.4)\n",
      "Requirement already satisfied: idna<4,>=2.5 in c:\\users\\neeli.venkatesh\\appdata\\local\\anaconda3\\lib\\site-packages (from requests<3.0.0dev,>=2.18.0->google-cloud-storage) (3.4)\n",
      "Requirement already satisfied: urllib3<3,>=1.21.1 in c:\\users\\neeli.venkatesh\\appdata\\local\\anaconda3\\lib\\site-packages (from requests<3.0.0dev,>=2.18.0->google-cloud-storage) (2.0.7)\n",
      "Requirement already satisfied: certifi>=2017.4.17 in c:\\users\\neeli.venkatesh\\appdata\\local\\anaconda3\\lib\\site-packages (from requests<3.0.0dev,>=2.18.0->google-cloud-storage) (2024.6.2)\n",
      "Requirement already satisfied: pyasn1<0.5.0,>=0.4.6 in c:\\users\\neeli.venkatesh\\appdata\\local\\anaconda3\\lib\\site-packages (from pyasn1-modules>=0.2.1->google-auth<3.0dev,>=2.26.1->google-cloud-storage) (0.4.8)\n",
      "Using cached google_cloud_storage-2.18.2-py2.py3-none-any.whl (130 kB)\n",
      "Using cached google_api_core-2.19.2-py3-none-any.whl (139 kB)\n",
      "Using cached google_auth-2.34.0-py2.py3-none-any.whl (200 kB)\n",
      "Using cached google_cloud_core-2.4.1-py2.py3-none-any.whl (29 kB)\n",
      "Downloading google_crc32c-1.6.0-cp311-cp311-win_amd64.whl (33 kB)\n",
      "Using cached google_resumable_media-2.7.2-py2.py3-none-any.whl (81 kB)\n",
      "Using cached googleapis_common_protos-1.65.0-py2.py3-none-any.whl (220 kB)\n",
      "Using cached proto_plus-1.24.0-py3-none-any.whl (50 kB)\n",
      "Using cached rsa-4.9-py3-none-any.whl (34 kB)\n",
      "Installing collected packages: rsa, proto-plus, googleapis-common-protos, google-crc32c, google-resumable-media, google-auth, google-api-core, google-cloud-core, google-cloud-storage\n",
      "Successfully installed google-api-core-2.19.2 google-auth-2.34.0 google-cloud-core-2.4.1 google-cloud-storage-2.18.2 google-crc32c-1.6.0 google-resumable-media-2.7.2 googleapis-common-protos-1.65.0 proto-plus-1.24.0 rsa-4.9\n"
     ]
    }
   ],
   "source": [
    "pip install google-cloud-storage"
   ]
  },
  {
   "cell_type": "code",
   "execution_count": 3,
   "id": "b7d7282b-2c2b-4059-9c2c-f1aca440e47e",
   "metadata": {},
   "outputs": [],
   "source": [
    "import os\n",
    " \n",
    "# Set the environment variable in Python\n",
    "os.environ[\"GOOGLE_APPLICATION_CREDENTIALS\"] =\"C:/Users/neeli.venkatesh/Downloads/loyal-vent-435807-v0-9b64a816214f.json\""
   ]
  },
  {
   "cell_type": "code",
   "execution_count": 4,
   "id": "a8834de0-90b0-46ef-863a-8f8dc343edbf",
   "metadata": {},
   "outputs": [
    {
     "name": "stdout",
     "output_type": "stream",
     "text": [
      "bk_t1\n"
     ]
    }
   ],
   "source": [
    "from google.cloud import storage\n",
    " \n",
    "client = storage.Client()\n",
    "buckets = client.list_buckets()\n",
    " \n",
    "for bucket in buckets:\n",
    "    print(bucket.name)"
   ]
  },
  {
   "cell_type": "code",
   "execution_count": 13,
   "id": "999db34f-8fbf-4391-a7af-d64c69175226",
   "metadata": {},
   "outputs": [
    {
     "name": "stdout",
     "output_type": "stream",
     "text": [
      "File C:/Users/neeli.venkatesh/Downloads/sample.txt uploaded to demo.txt.\n",
      "Files in bucket:\n",
      "demo.txt\n",
      "sample1uploaded.txt\n"
     ]
    }
   ],
   "source": [
    "from google.cloud import storage\n",
    " \n",
    "def upload_file_to_bucket(bucket_name, source_file_name, destination_blob_name):\n",
    "    # Initialize a client\n",
    "    storage_client = storage.Client()\n",
    " \n",
    "    # Get the bucket\n",
    "    bucket = storage_client.get_bucket(bucket_name)\n",
    " \n",
    "    # Create a blob and upload the file\n",
    "    blob = bucket.blob(destination_blob_name)\n",
    "    blob.upload_from_filename(source_file_name)\n",
    " \n",
    "    print(f\"File {source_file_name} uploaded to {destination_blob_name}.\")\n",
    " \n",
    "def list_files_in_bucket(bucket_name):\n",
    "    # Initialize a client\n",
    "    storage_client = storage.Client()\n",
    " \n",
    "    # Get the bucket\n",
    "    bucket = storage_client.get_bucket(bucket_name)\n",
    " \n",
    "    # List all objects in the bucket\n",
    "    blobs = bucket.list_blobs()\n",
    " \n",
    "    print(\"Files in bucket:\")\n",
    "    for blob in blobs:\n",
    "        print(blob.name)\n",
    " \n",
    "# Usage\n",
    "bucket_name = \"bk_t1\"\n",
    "source_file_name = \"C:/Users/neeli.venkatesh/Downloads/sample.txt\" \n",
    "destination_blob_name = \"demo.txt\"  # The name for the file in the bucket\n",
    " \n",
    "# Upload file\n",
    "upload_file_to_bucket(bucket_name, source_file_name, destination_blob_name)\n",
    " \n",
    "# List files\n",
    "list_files_in_bucket(bucket_name)\n",
    " "
   ]
  },
  {
   "cell_type": "code",
   "execution_count": null,
   "id": "4492f6c6-8717-4f98-8d53-df5966b3e56e",
   "metadata": {},
   "outputs": [],
   "source": []
  },
  {
   "cell_type": "code",
   "execution_count": null,
   "id": "64ee838d-5f3e-43af-a81b-538978c8d444",
   "metadata": {},
   "outputs": [],
   "source": []
  }
 ],
 "metadata": {
  "kernelspec": {
   "display_name": "Python 3 (ipykernel)",
   "language": "python",
   "name": "python3"
  },
  "language_info": {
   "codemirror_mode": {
    "name": "ipython",
    "version": 3
   },
   "file_extension": ".py",
   "mimetype": "text/x-python",
   "name": "python",
   "nbconvert_exporter": "python",
   "pygments_lexer": "ipython3",
   "version": "3.11.7"
  }
 },
 "nbformat": 4,
 "nbformat_minor": 5
}
